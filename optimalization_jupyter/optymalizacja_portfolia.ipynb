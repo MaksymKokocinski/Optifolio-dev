{
 "cells": [
  {
   "cell_type": "code",
   "execution_count": 1,
   "id": "cec9b6e0",
   "metadata": {},
   "outputs": [],
   "source": [
    "import pandas as pd\n",
    "import numpy as np"
   ]
  },
  {
   "cell_type": "code",
   "execution_count": 2,
   "id": "95c77005",
   "metadata": {},
   "outputs": [],
   "source": [
    "# ładowanie danych\n",
    "portfolio = pd.read_csv('przykladowe_portfolio.txt', sep=';')\n",
    "wskazniki = pd.read_csv('przykladowe_wskazniki.txt', sep=';')\n",
    "# usuwam jedną niepotrzebną kolumnę która mi się zrobiła przypadkowo przy tworzeniu przykładowych danych\n",
    "wskazniki.drop('Unnamed: 2', inplace=True, axis=1)"
   ]
  },
  {
   "cell_type": "code",
   "execution_count": 3,
   "id": "527cc8a3",
   "metadata": {
    "scrolled": true
   },
   "outputs": [
    {
     "data": {
      "text/html": [
       "<div>\n",
       "<style scoped>\n",
       "    .dataframe tbody tr th:only-of-type {\n",
       "        vertical-align: middle;\n",
       "    }\n",
       "\n",
       "    .dataframe tbody tr th {\n",
       "        vertical-align: top;\n",
       "    }\n",
       "\n",
       "    .dataframe thead th {\n",
       "        text-align: right;\n",
       "    }\n",
       "</style>\n",
       "<table border=\"1\" class=\"dataframe\">\n",
       "  <thead>\n",
       "    <tr style=\"text-align: right;\">\n",
       "      <th></th>\n",
       "      <th>nazwa</th>\n",
       "      <th>liczba_akcji</th>\n",
       "      <th>obecny_kurs</th>\n",
       "    </tr>\n",
       "  </thead>\n",
       "  <tbody>\n",
       "    <tr>\n",
       "      <th>0</th>\n",
       "      <td>Adobe</td>\n",
       "      <td>2</td>\n",
       "      <td>35.0</td>\n",
       "    </tr>\n",
       "    <tr>\n",
       "      <th>1</th>\n",
       "      <td>Makita</td>\n",
       "      <td>3</td>\n",
       "      <td>17.0</td>\n",
       "    </tr>\n",
       "    <tr>\n",
       "      <th>2</th>\n",
       "      <td>21 st Century Fox</td>\n",
       "      <td>4</td>\n",
       "      <td>23.0</td>\n",
       "    </tr>\n",
       "    <tr>\n",
       "      <th>3</th>\n",
       "      <td>Starbucks</td>\n",
       "      <td>5</td>\n",
       "      <td>12.0</td>\n",
       "    </tr>\n",
       "    <tr>\n",
       "      <th>4</th>\n",
       "      <td>Facebook</td>\n",
       "      <td>7</td>\n",
       "      <td>30.0</td>\n",
       "    </tr>\n",
       "    <tr>\n",
       "      <th>5</th>\n",
       "      <td>BlackBerry</td>\n",
       "      <td>2</td>\n",
       "      <td>55.0</td>\n",
       "    </tr>\n",
       "    <tr>\n",
       "      <th>6</th>\n",
       "      <td>EBay</td>\n",
       "      <td>12</td>\n",
       "      <td>11.0</td>\n",
       "    </tr>\n",
       "    <tr>\n",
       "      <th>7</th>\n",
       "      <td>Netflix</td>\n",
       "      <td>15</td>\n",
       "      <td>9.0</td>\n",
       "    </tr>\n",
       "    <tr>\n",
       "      <th>8</th>\n",
       "      <td>Moderna</td>\n",
       "      <td>3</td>\n",
       "      <td>34.0</td>\n",
       "    </tr>\n",
       "    <tr>\n",
       "      <th>9</th>\n",
       "      <td>AstraZeneca</td>\n",
       "      <td>5</td>\n",
       "      <td>14.0</td>\n",
       "    </tr>\n",
       "    <tr>\n",
       "      <th>10</th>\n",
       "      <td>Apple</td>\n",
       "      <td>4</td>\n",
       "      <td>46.0</td>\n",
       "    </tr>\n",
       "    <tr>\n",
       "      <th>11</th>\n",
       "      <td>NASDAQ</td>\n",
       "      <td>1</td>\n",
       "      <td>130.0</td>\n",
       "    </tr>\n",
       "    <tr>\n",
       "      <th>12</th>\n",
       "      <td>Garmin</td>\n",
       "      <td>29</td>\n",
       "      <td>6.0</td>\n",
       "    </tr>\n",
       "  </tbody>\n",
       "</table>\n",
       "</div>"
      ],
      "text/plain": [
       "                nazwa  liczba_akcji  obecny_kurs\n",
       "0               Adobe             2         35.0\n",
       "1              Makita             3         17.0\n",
       "2   21 st Century Fox             4         23.0\n",
       "3           Starbucks             5         12.0\n",
       "4            Facebook             7         30.0\n",
       "5          BlackBerry             2         55.0\n",
       "6                EBay            12         11.0\n",
       "7             Netflix            15          9.0\n",
       "8             Moderna             3         34.0\n",
       "9         AstraZeneca             5         14.0\n",
       "10              Apple             4         46.0\n",
       "11             NASDAQ             1        130.0\n",
       "12             Garmin            29          6.0"
      ]
     },
     "execution_count": 3,
     "metadata": {},
     "output_type": "execute_result"
    }
   ],
   "source": [
    "portfolio"
   ]
  },
  {
   "cell_type": "code",
   "execution_count": 4,
   "id": "cfebdcea",
   "metadata": {
    "scrolled": true
   },
   "outputs": [
    {
     "name": "stdout",
     "output_type": "stream",
     "text": [
      "portfolio_value 1520.0\n"
     ]
    }
   ],
   "source": [
    "# liczę wartość posiadanych akcji każdej firmy\n",
    "portfolio['wartosc'] = portfolio['liczba_akcji'] * portfolio['obecny_kurs']\n",
    "# zsumowana wartość całego portfolio przy obecnym kursie \n",
    "portfolio_value = portfolio['wartosc'].sum()\n",
    "print('portfolio_value', portfolio_value)\n",
    "# procent wartości akcji w stosunku do wartości całego portfolio\n",
    "portfolio['procent_wartosci'] = portfolio['wartosc'] / portfolio_value"
   ]
  },
  {
   "cell_type": "code",
   "execution_count": 5,
   "id": "073369d4",
   "metadata": {},
   "outputs": [
    {
     "data": {
      "text/html": [
       "<div>\n",
       "<style scoped>\n",
       "    .dataframe tbody tr th:only-of-type {\n",
       "        vertical-align: middle;\n",
       "    }\n",
       "\n",
       "    .dataframe tbody tr th {\n",
       "        vertical-align: top;\n",
       "    }\n",
       "\n",
       "    .dataframe thead th {\n",
       "        text-align: right;\n",
       "    }\n",
       "</style>\n",
       "<table border=\"1\" class=\"dataframe\">\n",
       "  <thead>\n",
       "    <tr style=\"text-align: right;\">\n",
       "      <th></th>\n",
       "      <th>nazwa</th>\n",
       "      <th>liczba_akcji</th>\n",
       "      <th>obecny_kurs</th>\n",
       "      <th>wartosc</th>\n",
       "      <th>procent_wartosci</th>\n",
       "    </tr>\n",
       "  </thead>\n",
       "  <tbody>\n",
       "    <tr>\n",
       "      <th>0</th>\n",
       "      <td>Adobe</td>\n",
       "      <td>2</td>\n",
       "      <td>35.0</td>\n",
       "      <td>70.0</td>\n",
       "      <td>0.046053</td>\n",
       "    </tr>\n",
       "    <tr>\n",
       "      <th>1</th>\n",
       "      <td>Makita</td>\n",
       "      <td>3</td>\n",
       "      <td>17.0</td>\n",
       "      <td>51.0</td>\n",
       "      <td>0.033553</td>\n",
       "    </tr>\n",
       "    <tr>\n",
       "      <th>2</th>\n",
       "      <td>21 st Century Fox</td>\n",
       "      <td>4</td>\n",
       "      <td>23.0</td>\n",
       "      <td>92.0</td>\n",
       "      <td>0.060526</td>\n",
       "    </tr>\n",
       "    <tr>\n",
       "      <th>3</th>\n",
       "      <td>Starbucks</td>\n",
       "      <td>5</td>\n",
       "      <td>12.0</td>\n",
       "      <td>60.0</td>\n",
       "      <td>0.039474</td>\n",
       "    </tr>\n",
       "    <tr>\n",
       "      <th>4</th>\n",
       "      <td>Facebook</td>\n",
       "      <td>7</td>\n",
       "      <td>30.0</td>\n",
       "      <td>210.0</td>\n",
       "      <td>0.138158</td>\n",
       "    </tr>\n",
       "    <tr>\n",
       "      <th>5</th>\n",
       "      <td>BlackBerry</td>\n",
       "      <td>2</td>\n",
       "      <td>55.0</td>\n",
       "      <td>110.0</td>\n",
       "      <td>0.072368</td>\n",
       "    </tr>\n",
       "    <tr>\n",
       "      <th>6</th>\n",
       "      <td>EBay</td>\n",
       "      <td>12</td>\n",
       "      <td>11.0</td>\n",
       "      <td>132.0</td>\n",
       "      <td>0.086842</td>\n",
       "    </tr>\n",
       "    <tr>\n",
       "      <th>7</th>\n",
       "      <td>Netflix</td>\n",
       "      <td>15</td>\n",
       "      <td>9.0</td>\n",
       "      <td>135.0</td>\n",
       "      <td>0.088816</td>\n",
       "    </tr>\n",
       "    <tr>\n",
       "      <th>8</th>\n",
       "      <td>Moderna</td>\n",
       "      <td>3</td>\n",
       "      <td>34.0</td>\n",
       "      <td>102.0</td>\n",
       "      <td>0.067105</td>\n",
       "    </tr>\n",
       "    <tr>\n",
       "      <th>9</th>\n",
       "      <td>AstraZeneca</td>\n",
       "      <td>5</td>\n",
       "      <td>14.0</td>\n",
       "      <td>70.0</td>\n",
       "      <td>0.046053</td>\n",
       "    </tr>\n",
       "    <tr>\n",
       "      <th>10</th>\n",
       "      <td>Apple</td>\n",
       "      <td>4</td>\n",
       "      <td>46.0</td>\n",
       "      <td>184.0</td>\n",
       "      <td>0.121053</td>\n",
       "    </tr>\n",
       "    <tr>\n",
       "      <th>11</th>\n",
       "      <td>NASDAQ</td>\n",
       "      <td>1</td>\n",
       "      <td>130.0</td>\n",
       "      <td>130.0</td>\n",
       "      <td>0.085526</td>\n",
       "    </tr>\n",
       "    <tr>\n",
       "      <th>12</th>\n",
       "      <td>Garmin</td>\n",
       "      <td>29</td>\n",
       "      <td>6.0</td>\n",
       "      <td>174.0</td>\n",
       "      <td>0.114474</td>\n",
       "    </tr>\n",
       "  </tbody>\n",
       "</table>\n",
       "</div>"
      ],
      "text/plain": [
       "                nazwa  liczba_akcji  obecny_kurs  wartosc  procent_wartosci\n",
       "0               Adobe             2         35.0     70.0          0.046053\n",
       "1              Makita             3         17.0     51.0          0.033553\n",
       "2   21 st Century Fox             4         23.0     92.0          0.060526\n",
       "3           Starbucks             5         12.0     60.0          0.039474\n",
       "4            Facebook             7         30.0    210.0          0.138158\n",
       "5          BlackBerry             2         55.0    110.0          0.072368\n",
       "6                EBay            12         11.0    132.0          0.086842\n",
       "7             Netflix            15          9.0    135.0          0.088816\n",
       "8             Moderna             3         34.0    102.0          0.067105\n",
       "9         AstraZeneca             5         14.0     70.0          0.046053\n",
       "10              Apple             4         46.0    184.0          0.121053\n",
       "11             NASDAQ             1        130.0    130.0          0.085526\n",
       "12             Garmin            29          6.0    174.0          0.114474"
      ]
     },
     "execution_count": 5,
     "metadata": {},
     "output_type": "execute_result"
    }
   ],
   "source": [
    "portfolio"
   ]
  },
  {
   "cell_type": "code",
   "execution_count": 6,
   "id": "d081e1fd",
   "metadata": {
    "scrolled": true
   },
   "outputs": [
    {
     "data": {
      "text/html": [
       "<div>\n",
       "<style scoped>\n",
       "    .dataframe tbody tr th:only-of-type {\n",
       "        vertical-align: middle;\n",
       "    }\n",
       "\n",
       "    .dataframe tbody tr th {\n",
       "        vertical-align: top;\n",
       "    }\n",
       "\n",
       "    .dataframe thead th {\n",
       "        text-align: right;\n",
       "    }\n",
       "</style>\n",
       "<table border=\"1\" class=\"dataframe\">\n",
       "  <thead>\n",
       "    <tr style=\"text-align: right;\">\n",
       "      <th></th>\n",
       "      <th>sredni_zysk</th>\n",
       "      <th>srednie_odchylenie</th>\n",
       "    </tr>\n",
       "  </thead>\n",
       "  <tbody>\n",
       "    <tr>\n",
       "      <th>0</th>\n",
       "      <td>0.534</td>\n",
       "      <td>5.465</td>\n",
       "    </tr>\n",
       "    <tr>\n",
       "      <th>1</th>\n",
       "      <td>-1.749</td>\n",
       "      <td>6.544</td>\n",
       "    </tr>\n",
       "    <tr>\n",
       "      <th>2</th>\n",
       "      <td>1.837</td>\n",
       "      <td>7.734</td>\n",
       "    </tr>\n",
       "    <tr>\n",
       "      <th>3</th>\n",
       "      <td>0.352</td>\n",
       "      <td>6.283</td>\n",
       "    </tr>\n",
       "    <tr>\n",
       "      <th>4</th>\n",
       "      <td>0.163</td>\n",
       "      <td>8.365</td>\n",
       "    </tr>\n",
       "    <tr>\n",
       "      <th>5</th>\n",
       "      <td>0.857</td>\n",
       "      <td>4.869</td>\n",
       "    </tr>\n",
       "    <tr>\n",
       "      <th>6</th>\n",
       "      <td>-0.874</td>\n",
       "      <td>2.134</td>\n",
       "    </tr>\n",
       "    <tr>\n",
       "      <th>7</th>\n",
       "      <td>-0.632</td>\n",
       "      <td>6.674</td>\n",
       "    </tr>\n",
       "    <tr>\n",
       "      <th>8</th>\n",
       "      <td>1.375</td>\n",
       "      <td>5.872</td>\n",
       "    </tr>\n",
       "    <tr>\n",
       "      <th>9</th>\n",
       "      <td>0.386</td>\n",
       "      <td>3.985</td>\n",
       "    </tr>\n",
       "    <tr>\n",
       "      <th>10</th>\n",
       "      <td>-1.474</td>\n",
       "      <td>7.862</td>\n",
       "    </tr>\n",
       "    <tr>\n",
       "      <th>11</th>\n",
       "      <td>0.284</td>\n",
       "      <td>4.236</td>\n",
       "    </tr>\n",
       "    <tr>\n",
       "      <th>12</th>\n",
       "      <td>1.347</td>\n",
       "      <td>8.357</td>\n",
       "    </tr>\n",
       "  </tbody>\n",
       "</table>\n",
       "</div>"
      ],
      "text/plain": [
       "    sredni_zysk  srednie_odchylenie\n",
       "0         0.534               5.465\n",
       "1        -1.749               6.544\n",
       "2         1.837               7.734\n",
       "3         0.352               6.283\n",
       "4         0.163               8.365\n",
       "5         0.857               4.869\n",
       "6        -0.874               2.134\n",
       "7        -0.632               6.674\n",
       "8         1.375               5.872\n",
       "9         0.386               3.985\n",
       "10       -1.474               7.862\n",
       "11        0.284               4.236\n",
       "12        1.347               8.357"
      ]
     },
     "execution_count": 6,
     "metadata": {},
     "output_type": "execute_result"
    }
   ],
   "source": [
    "wskazniki"
   ]
  },
  {
   "cell_type": "code",
   "execution_count": 7,
   "id": "d7813406",
   "metadata": {},
   "outputs": [
    {
     "data": {
      "text/html": [
       "<div>\n",
       "<style scoped>\n",
       "    .dataframe tbody tr th:only-of-type {\n",
       "        vertical-align: middle;\n",
       "    }\n",
       "\n",
       "    .dataframe tbody tr th {\n",
       "        vertical-align: top;\n",
       "    }\n",
       "\n",
       "    .dataframe thead th {\n",
       "        text-align: right;\n",
       "    }\n",
       "</style>\n",
       "<table border=\"1\" class=\"dataframe\">\n",
       "  <thead>\n",
       "    <tr style=\"text-align: right;\">\n",
       "      <th></th>\n",
       "      <th>nazwa</th>\n",
       "      <th>liczba_akcji</th>\n",
       "      <th>obecny_kurs</th>\n",
       "      <th>wartosc</th>\n",
       "      <th>procent_wartosci</th>\n",
       "      <th>sredni_zysk</th>\n",
       "      <th>srednie_odchylenie</th>\n",
       "    </tr>\n",
       "  </thead>\n",
       "  <tbody>\n",
       "    <tr>\n",
       "      <th>0</th>\n",
       "      <td>Adobe</td>\n",
       "      <td>2</td>\n",
       "      <td>35.0</td>\n",
       "      <td>70.0</td>\n",
       "      <td>0.046053</td>\n",
       "      <td>0.534</td>\n",
       "      <td>5.465</td>\n",
       "    </tr>\n",
       "    <tr>\n",
       "      <th>1</th>\n",
       "      <td>Makita</td>\n",
       "      <td>3</td>\n",
       "      <td>17.0</td>\n",
       "      <td>51.0</td>\n",
       "      <td>0.033553</td>\n",
       "      <td>-1.749</td>\n",
       "      <td>6.544</td>\n",
       "    </tr>\n",
       "    <tr>\n",
       "      <th>2</th>\n",
       "      <td>21 st Century Fox</td>\n",
       "      <td>4</td>\n",
       "      <td>23.0</td>\n",
       "      <td>92.0</td>\n",
       "      <td>0.060526</td>\n",
       "      <td>1.837</td>\n",
       "      <td>7.734</td>\n",
       "    </tr>\n",
       "    <tr>\n",
       "      <th>3</th>\n",
       "      <td>Starbucks</td>\n",
       "      <td>5</td>\n",
       "      <td>12.0</td>\n",
       "      <td>60.0</td>\n",
       "      <td>0.039474</td>\n",
       "      <td>0.352</td>\n",
       "      <td>6.283</td>\n",
       "    </tr>\n",
       "    <tr>\n",
       "      <th>4</th>\n",
       "      <td>Facebook</td>\n",
       "      <td>7</td>\n",
       "      <td>30.0</td>\n",
       "      <td>210.0</td>\n",
       "      <td>0.138158</td>\n",
       "      <td>0.163</td>\n",
       "      <td>8.365</td>\n",
       "    </tr>\n",
       "    <tr>\n",
       "      <th>5</th>\n",
       "      <td>BlackBerry</td>\n",
       "      <td>2</td>\n",
       "      <td>55.0</td>\n",
       "      <td>110.0</td>\n",
       "      <td>0.072368</td>\n",
       "      <td>0.857</td>\n",
       "      <td>4.869</td>\n",
       "    </tr>\n",
       "    <tr>\n",
       "      <th>6</th>\n",
       "      <td>EBay</td>\n",
       "      <td>12</td>\n",
       "      <td>11.0</td>\n",
       "      <td>132.0</td>\n",
       "      <td>0.086842</td>\n",
       "      <td>-0.874</td>\n",
       "      <td>2.134</td>\n",
       "    </tr>\n",
       "    <tr>\n",
       "      <th>7</th>\n",
       "      <td>Netflix</td>\n",
       "      <td>15</td>\n",
       "      <td>9.0</td>\n",
       "      <td>135.0</td>\n",
       "      <td>0.088816</td>\n",
       "      <td>-0.632</td>\n",
       "      <td>6.674</td>\n",
       "    </tr>\n",
       "    <tr>\n",
       "      <th>8</th>\n",
       "      <td>Moderna</td>\n",
       "      <td>3</td>\n",
       "      <td>34.0</td>\n",
       "      <td>102.0</td>\n",
       "      <td>0.067105</td>\n",
       "      <td>1.375</td>\n",
       "      <td>5.872</td>\n",
       "    </tr>\n",
       "    <tr>\n",
       "      <th>9</th>\n",
       "      <td>AstraZeneca</td>\n",
       "      <td>5</td>\n",
       "      <td>14.0</td>\n",
       "      <td>70.0</td>\n",
       "      <td>0.046053</td>\n",
       "      <td>0.386</td>\n",
       "      <td>3.985</td>\n",
       "    </tr>\n",
       "    <tr>\n",
       "      <th>10</th>\n",
       "      <td>Apple</td>\n",
       "      <td>4</td>\n",
       "      <td>46.0</td>\n",
       "      <td>184.0</td>\n",
       "      <td>0.121053</td>\n",
       "      <td>-1.474</td>\n",
       "      <td>7.862</td>\n",
       "    </tr>\n",
       "    <tr>\n",
       "      <th>11</th>\n",
       "      <td>NASDAQ</td>\n",
       "      <td>1</td>\n",
       "      <td>130.0</td>\n",
       "      <td>130.0</td>\n",
       "      <td>0.085526</td>\n",
       "      <td>0.284</td>\n",
       "      <td>4.236</td>\n",
       "    </tr>\n",
       "    <tr>\n",
       "      <th>12</th>\n",
       "      <td>Garmin</td>\n",
       "      <td>29</td>\n",
       "      <td>6.0</td>\n",
       "      <td>174.0</td>\n",
       "      <td>0.114474</td>\n",
       "      <td>1.347</td>\n",
       "      <td>8.357</td>\n",
       "    </tr>\n",
       "  </tbody>\n",
       "</table>\n",
       "</div>"
      ],
      "text/plain": [
       "                nazwa  liczba_akcji  obecny_kurs  wartosc  procent_wartosci  \\\n",
       "0               Adobe             2         35.0     70.0          0.046053   \n",
       "1              Makita             3         17.0     51.0          0.033553   \n",
       "2   21 st Century Fox             4         23.0     92.0          0.060526   \n",
       "3           Starbucks             5         12.0     60.0          0.039474   \n",
       "4            Facebook             7         30.0    210.0          0.138158   \n",
       "5          BlackBerry             2         55.0    110.0          0.072368   \n",
       "6                EBay            12         11.0    132.0          0.086842   \n",
       "7             Netflix            15          9.0    135.0          0.088816   \n",
       "8             Moderna             3         34.0    102.0          0.067105   \n",
       "9         AstraZeneca             5         14.0     70.0          0.046053   \n",
       "10              Apple             4         46.0    184.0          0.121053   \n",
       "11             NASDAQ             1        130.0    130.0          0.085526   \n",
       "12             Garmin            29          6.0    174.0          0.114474   \n",
       "\n",
       "    sredni_zysk  srednie_odchylenie  \n",
       "0         0.534               5.465  \n",
       "1        -1.749               6.544  \n",
       "2         1.837               7.734  \n",
       "3         0.352               6.283  \n",
       "4         0.163               8.365  \n",
       "5         0.857               4.869  \n",
       "6        -0.874               2.134  \n",
       "7        -0.632               6.674  \n",
       "8         1.375               5.872  \n",
       "9         0.386               3.985  \n",
       "10       -1.474               7.862  \n",
       "11        0.284               4.236  \n",
       "12        1.347               8.357  "
      ]
     },
     "execution_count": 7,
     "metadata": {},
     "output_type": "execute_result"
    }
   ],
   "source": [
    "# łączenie tabeli portfolio z tabelą wskaźniki\n",
    "portfolio = portfolio.join(wskazniki)\n",
    "portfolio"
   ]
  },
  {
   "cell_type": "code",
   "execution_count": 8,
   "id": "352f8243",
   "metadata": {},
   "outputs": [
    {
     "data": {
      "text/html": [
       "<div>\n",
       "<style scoped>\n",
       "    .dataframe tbody tr th:only-of-type {\n",
       "        vertical-align: middle;\n",
       "    }\n",
       "\n",
       "    .dataframe tbody tr th {\n",
       "        vertical-align: top;\n",
       "    }\n",
       "\n",
       "    .dataframe thead th {\n",
       "        text-align: right;\n",
       "    }\n",
       "</style>\n",
       "<table border=\"1\" class=\"dataframe\">\n",
       "  <thead>\n",
       "    <tr style=\"text-align: right;\">\n",
       "      <th></th>\n",
       "      <th>nazwa</th>\n",
       "      <th>liczba_akcji</th>\n",
       "      <th>obecny_kurs</th>\n",
       "      <th>wartosc</th>\n",
       "      <th>procent_wartosci</th>\n",
       "      <th>sredni_zysk</th>\n",
       "      <th>srednie_odchylenie</th>\n",
       "      <th>sharpe_ratio</th>\n",
       "    </tr>\n",
       "  </thead>\n",
       "  <tbody>\n",
       "    <tr>\n",
       "      <th>0</th>\n",
       "      <td>Adobe</td>\n",
       "      <td>2</td>\n",
       "      <td>35.0</td>\n",
       "      <td>70.0</td>\n",
       "      <td>0.046053</td>\n",
       "      <td>0.534</td>\n",
       "      <td>5.465</td>\n",
       "      <td>0.097713</td>\n",
       "    </tr>\n",
       "    <tr>\n",
       "      <th>1</th>\n",
       "      <td>Makita</td>\n",
       "      <td>3</td>\n",
       "      <td>17.0</td>\n",
       "      <td>51.0</td>\n",
       "      <td>0.033553</td>\n",
       "      <td>-1.749</td>\n",
       "      <td>6.544</td>\n",
       "      <td>-0.267268</td>\n",
       "    </tr>\n",
       "    <tr>\n",
       "      <th>2</th>\n",
       "      <td>21 st Century Fox</td>\n",
       "      <td>4</td>\n",
       "      <td>23.0</td>\n",
       "      <td>92.0</td>\n",
       "      <td>0.060526</td>\n",
       "      <td>1.837</td>\n",
       "      <td>7.734</td>\n",
       "      <td>0.237523</td>\n",
       "    </tr>\n",
       "    <tr>\n",
       "      <th>3</th>\n",
       "      <td>Starbucks</td>\n",
       "      <td>5</td>\n",
       "      <td>12.0</td>\n",
       "      <td>60.0</td>\n",
       "      <td>0.039474</td>\n",
       "      <td>0.352</td>\n",
       "      <td>6.283</td>\n",
       "      <td>0.056024</td>\n",
       "    </tr>\n",
       "    <tr>\n",
       "      <th>4</th>\n",
       "      <td>Facebook</td>\n",
       "      <td>7</td>\n",
       "      <td>30.0</td>\n",
       "      <td>210.0</td>\n",
       "      <td>0.138158</td>\n",
       "      <td>0.163</td>\n",
       "      <td>8.365</td>\n",
       "      <td>0.019486</td>\n",
       "    </tr>\n",
       "    <tr>\n",
       "      <th>5</th>\n",
       "      <td>BlackBerry</td>\n",
       "      <td>2</td>\n",
       "      <td>55.0</td>\n",
       "      <td>110.0</td>\n",
       "      <td>0.072368</td>\n",
       "      <td>0.857</td>\n",
       "      <td>4.869</td>\n",
       "      <td>0.176012</td>\n",
       "    </tr>\n",
       "    <tr>\n",
       "      <th>6</th>\n",
       "      <td>EBay</td>\n",
       "      <td>12</td>\n",
       "      <td>11.0</td>\n",
       "      <td>132.0</td>\n",
       "      <td>0.086842</td>\n",
       "      <td>-0.874</td>\n",
       "      <td>2.134</td>\n",
       "      <td>-0.409560</td>\n",
       "    </tr>\n",
       "    <tr>\n",
       "      <th>7</th>\n",
       "      <td>Netflix</td>\n",
       "      <td>15</td>\n",
       "      <td>9.0</td>\n",
       "      <td>135.0</td>\n",
       "      <td>0.088816</td>\n",
       "      <td>-0.632</td>\n",
       "      <td>6.674</td>\n",
       "      <td>-0.094696</td>\n",
       "    </tr>\n",
       "    <tr>\n",
       "      <th>8</th>\n",
       "      <td>Moderna</td>\n",
       "      <td>3</td>\n",
       "      <td>34.0</td>\n",
       "      <td>102.0</td>\n",
       "      <td>0.067105</td>\n",
       "      <td>1.375</td>\n",
       "      <td>5.872</td>\n",
       "      <td>0.234162</td>\n",
       "    </tr>\n",
       "    <tr>\n",
       "      <th>9</th>\n",
       "      <td>AstraZeneca</td>\n",
       "      <td>5</td>\n",
       "      <td>14.0</td>\n",
       "      <td>70.0</td>\n",
       "      <td>0.046053</td>\n",
       "      <td>0.386</td>\n",
       "      <td>3.985</td>\n",
       "      <td>0.096863</td>\n",
       "    </tr>\n",
       "    <tr>\n",
       "      <th>10</th>\n",
       "      <td>Apple</td>\n",
       "      <td>4</td>\n",
       "      <td>46.0</td>\n",
       "      <td>184.0</td>\n",
       "      <td>0.121053</td>\n",
       "      <td>-1.474</td>\n",
       "      <td>7.862</td>\n",
       "      <td>-0.187484</td>\n",
       "    </tr>\n",
       "    <tr>\n",
       "      <th>11</th>\n",
       "      <td>NASDAQ</td>\n",
       "      <td>1</td>\n",
       "      <td>130.0</td>\n",
       "      <td>130.0</td>\n",
       "      <td>0.085526</td>\n",
       "      <td>0.284</td>\n",
       "      <td>4.236</td>\n",
       "      <td>0.067044</td>\n",
       "    </tr>\n",
       "    <tr>\n",
       "      <th>12</th>\n",
       "      <td>Garmin</td>\n",
       "      <td>29</td>\n",
       "      <td>6.0</td>\n",
       "      <td>174.0</td>\n",
       "      <td>0.114474</td>\n",
       "      <td>1.347</td>\n",
       "      <td>8.357</td>\n",
       "      <td>0.161182</td>\n",
       "    </tr>\n",
       "  </tbody>\n",
       "</table>\n",
       "</div>"
      ],
      "text/plain": [
       "                nazwa  liczba_akcji  obecny_kurs  wartosc  procent_wartosci  \\\n",
       "0               Adobe             2         35.0     70.0          0.046053   \n",
       "1              Makita             3         17.0     51.0          0.033553   \n",
       "2   21 st Century Fox             4         23.0     92.0          0.060526   \n",
       "3           Starbucks             5         12.0     60.0          0.039474   \n",
       "4            Facebook             7         30.0    210.0          0.138158   \n",
       "5          BlackBerry             2         55.0    110.0          0.072368   \n",
       "6                EBay            12         11.0    132.0          0.086842   \n",
       "7             Netflix            15          9.0    135.0          0.088816   \n",
       "8             Moderna             3         34.0    102.0          0.067105   \n",
       "9         AstraZeneca             5         14.0     70.0          0.046053   \n",
       "10              Apple             4         46.0    184.0          0.121053   \n",
       "11             NASDAQ             1        130.0    130.0          0.085526   \n",
       "12             Garmin            29          6.0    174.0          0.114474   \n",
       "\n",
       "    sredni_zysk  srednie_odchylenie  sharpe_ratio  \n",
       "0         0.534               5.465      0.097713  \n",
       "1        -1.749               6.544     -0.267268  \n",
       "2         1.837               7.734      0.237523  \n",
       "3         0.352               6.283      0.056024  \n",
       "4         0.163               8.365      0.019486  \n",
       "5         0.857               4.869      0.176012  \n",
       "6        -0.874               2.134     -0.409560  \n",
       "7        -0.632               6.674     -0.094696  \n",
       "8         1.375               5.872      0.234162  \n",
       "9         0.386               3.985      0.096863  \n",
       "10       -1.474               7.862     -0.187484  \n",
       "11        0.284               4.236      0.067044  \n",
       "12        1.347               8.357      0.161182  "
      ]
     },
     "execution_count": 8,
     "metadata": {},
     "output_type": "execute_result"
    }
   ],
   "source": [
    "# licze sharpe ratio\n",
    "portfolio['sharpe_ratio'] = portfolio['sredni_zysk'] / portfolio['srednie_odchylenie']\n",
    "portfolio\n",
    "# średni zysk = expected return w filmiku\n",
    "# średnie odchylenie = standard deviation w filmiku\n",
    "# sharpe ratio to tak samo"
   ]
  },
  {
   "cell_type": "code",
   "execution_count": 9,
   "id": "bf575315",
   "metadata": {
    "scrolled": true
   },
   "outputs": [
    {
     "data": {
      "text/plain": [
       "array([[ 2.84871618e-03, -2.67321262e-03,  2.28413324e-03,\n",
       "         4.19049390e-03,  1.64494118e-03,  7.48550140e-04,\n",
       "        -2.66331659e-03,  8.72162439e-04,  4.79167077e-03,\n",
       "         4.70925740e-03,  4.27018617e-03,  9.40862035e-05,\n",
       "         2.05608827e-03],\n",
       "       [ 2.52874996e-03,  1.00104419e-03,  2.26216928e-04,\n",
       "         3.75052048e-03,  2.69275466e-03, -2.68491207e-03,\n",
       "        -2.14945730e-03, -1.04097076e-03,  3.80860222e-03,\n",
       "        -5.72703676e-04,  2.33868616e-03, -2.43802112e-04,\n",
       "         2.80907407e-03],\n",
       "       [ 4.75575995e-03,  3.86215173e-03,  4.36569754e-03,\n",
       "         4.88736291e-03,  1.63311939e-03, -6.08658109e-04,\n",
       "         8.10831191e-04,  1.02421407e-03, -2.63211451e-03,\n",
       "        -2.58814518e-03,  4.06310937e-03,  4.71898758e-04,\n",
       "         5.80658116e-04],\n",
       "       [ 2.28893573e-03,  3.00660581e-03,  1.32689994e-04,\n",
       "         3.35524865e-03,  4.06135731e-03,  6.27576853e-04,\n",
       "        -1.97599778e-03,  3.16813322e-03, -2.39852852e-03,\n",
       "        -1.82573868e-03, -5.48816999e-04,  2.03814599e-03,\n",
       "         1.80195003e-03],\n",
       "       [ 3.28869864e-03, -8.86325385e-04, -2.86539540e-03,\n",
       "        -1.95700784e-03,  3.39641270e-03, -1.26190599e-03,\n",
       "        -2.28200758e-03,  1.27387182e-03,  2.06654567e-03,\n",
       "        -1.02162828e-04, -1.09285711e-03,  1.48939693e-03,\n",
       "         8.50055692e-04],\n",
       "       [-7.71040757e-04,  1.77474793e-03, -4.43485560e-04,\n",
       "        -1.42692281e-04,  2.15586081e-03,  4.32816278e-03,\n",
       "         2.61962615e-03,  4.06528509e-03, -2.45055595e-03,\n",
       "         1.81483240e-03,  2.25951242e-03,  1.87813251e-03,\n",
       "        -2.56585256e-03],\n",
       "       [ 2.01854981e-03,  1.72763790e-04,  3.67866060e-03,\n",
       "        -7.81155171e-04,  4.91984018e-03,  3.34738675e-03,\n",
       "         1.64497315e-03,  4.64001866e-03,  2.13936628e-03,\n",
       "        -1.87789275e-03, -9.26833104e-04, -4.19353940e-04,\n",
       "        -7.62148384e-04],\n",
       "       [ 2.32317130e-03, -1.57544611e-03,  4.31218755e-03,\n",
       "        -1.79015886e-03,  1.25365663e-03,  1.38703631e-03,\n",
       "         8.94554453e-04,  2.23139569e-03, -2.79223545e-03,\n",
       "         3.11961577e-03,  3.03434821e-03,  2.43726244e-03,\n",
       "        -3.68796960e-04],\n",
       "       [ 1.45188735e-03,  3.72190070e-03,  1.85427972e-03,\n",
       "         3.87380987e-03, -2.96108149e-03,  2.73351488e-03,\n",
       "        -2.20342114e-03,  3.35850753e-04,  1.14859747e-04,\n",
       "        -6.80543555e-04,  3.44820912e-03,  7.60917147e-04,\n",
       "         3.96586312e-03],\n",
       "       [-1.06837717e-03,  3.81059711e-03,  3.78789006e-05,\n",
       "        -3.11762109e-04,  1.28173906e-03, -1.60930464e-04,\n",
       "         4.31209903e-03,  2.92300029e-03,  7.21362020e-04,\n",
       "         3.97240493e-03,  3.86656114e-04,  4.00586941e-03,\n",
       "        -1.01587217e-03],\n",
       "       [ 2.15352379e-03, -1.33981496e-03,  2.14101750e-03,\n",
       "        -2.09310691e-03, -1.97490335e-03, -1.49657152e-03,\n",
       "        -2.42823607e-03, -1.97960978e-03,  3.52265600e-03,\n",
       "        -4.01734609e-04,  1.63650483e-03,  3.87967554e-03,\n",
       "         3.27432031e-03],\n",
       "       [-1.00641513e-03,  4.30804559e-03,  4.47644390e-03,\n",
       "         2.25270065e-03, -2.49777511e-03, -1.70234803e-03,\n",
       "         3.98156941e-04,  1.49961882e-03,  3.14135860e-03,\n",
       "        -2.42667118e-03,  1.89942860e-03,  1.61794257e-03,\n",
       "         1.78928590e-04],\n",
       "       [-2.79844053e-03,  1.74631923e-03,  2.18511315e-03,\n",
       "         1.41441566e-03,  1.97441973e-03,  3.89420552e-04,\n",
       "         1.35362992e-03, -2.23413919e-03, -7.19445663e-04,\n",
       "         4.88290422e-03, -2.73866219e-03, -4.48707256e-04,\n",
       "         3.99186824e-03]])"
      ]
     },
     "execution_count": 9,
     "metadata": {},
     "output_type": "execute_result"
    }
   ],
   "source": [
    "# losuję przykładową macierz waiancji-kowariancji\n",
    "covariance_matrix = 0.008 * np.random.rand(13,13) - 0.003\n",
    "covariance_matrix"
   ]
  },
  {
   "cell_type": "code",
   "execution_count": 10,
   "id": "50c7b8e8",
   "metadata": {},
   "outputs": [
    {
     "data": {
      "text/plain": [
       "0.15359802631578942"
      ]
     },
     "execution_count": 10,
     "metadata": {},
     "output_type": "execute_result"
    }
   ],
   "source": [
    "# oczekiwany zwrot z portfolio\n",
    "portfolio_exp_return = (portfolio['sredni_zysk'] * portfolio['procent_wartosci']).sum()\n",
    "portfolio_exp_return"
   ]
  },
  {
   "cell_type": "code",
   "execution_count": 11,
   "id": "560e486d",
   "metadata": {},
   "outputs": [],
   "source": [
    "# zamieniam pandasową kolumnę na format akceptowany przez numpy\n",
    "weights = portfolio['procent_wartosci'].to_numpy()"
   ]
  },
  {
   "cell_type": "code",
   "execution_count": 12,
   "id": "3dc06866",
   "metadata": {},
   "outputs": [
    {
     "data": {
      "text/plain": [
       "0.0308919023848217"
      ]
     },
     "execution_count": 12,
     "metadata": {},
     "output_type": "execute_result"
    }
   ],
   "source": [
    "# odchylenie standardowe portfolio\n",
    "portfolio_std_deviation = np.sqrt(np.matmul(np.matmul(weights, covariance_matrix), weights))\n",
    "portfolio_std_deviation"
   ]
  },
  {
   "cell_type": "code",
   "execution_count": 13,
   "id": "d628de09",
   "metadata": {},
   "outputs": [
    {
     "data": {
      "text/plain": [
       "4.972112898791809"
      ]
     },
     "execution_count": 13,
     "metadata": {},
     "output_type": "execute_result"
    }
   ],
   "source": [
    "# sharpe ratio dla całego portfolio\n",
    "portfolio_sharpe_ratio = portfolio_exp_return / portfolio_std_deviation\n",
    "portfolio_sharpe_ratio"
   ]
  },
  {
   "cell_type": "markdown",
   "id": "5ecac46f",
   "metadata": {},
   "source": [
    "# Test dla danych (prawie takich samych) jak w filmiku na yt"
   ]
  },
  {
   "cell_type": "code",
   "execution_count": 14,
   "id": "78bc79fc",
   "metadata": {
    "scrolled": true
   },
   "outputs": [
    {
     "data": {
      "text/html": [
       "<div>\n",
       "<style scoped>\n",
       "    .dataframe tbody tr th:only-of-type {\n",
       "        vertical-align: middle;\n",
       "    }\n",
       "\n",
       "    .dataframe tbody tr th {\n",
       "        vertical-align: top;\n",
       "    }\n",
       "\n",
       "    .dataframe thead th {\n",
       "        text-align: right;\n",
       "    }\n",
       "</style>\n",
       "<table border=\"1\" class=\"dataframe\">\n",
       "  <thead>\n",
       "    <tr style=\"text-align: right;\">\n",
       "      <th></th>\n",
       "      <th>name</th>\n",
       "      <th>exp_ret</th>\n",
       "      <th>std_dev</th>\n",
       "      <th>weights</th>\n",
       "    </tr>\n",
       "  </thead>\n",
       "  <tbody>\n",
       "    <tr>\n",
       "      <th>0</th>\n",
       "      <td>SPY</td>\n",
       "      <td>-0.00033</td>\n",
       "      <td>0.05465</td>\n",
       "      <td>0.125</td>\n",
       "    </tr>\n",
       "    <tr>\n",
       "      <th>1</th>\n",
       "      <td>MDY</td>\n",
       "      <td>0.00235</td>\n",
       "      <td>0.06544</td>\n",
       "      <td>0.125</td>\n",
       "    </tr>\n",
       "    <tr>\n",
       "      <th>2</th>\n",
       "      <td>SLY</td>\n",
       "      <td>0.00228</td>\n",
       "      <td>0.07204</td>\n",
       "      <td>0.125</td>\n",
       "    </tr>\n",
       "    <tr>\n",
       "      <th>3</th>\n",
       "      <td>EFA</td>\n",
       "      <td>-0.00439</td>\n",
       "      <td>0.06946</td>\n",
       "      <td>0.125</td>\n",
       "    </tr>\n",
       "    <tr>\n",
       "      <th>4</th>\n",
       "      <td>EEM</td>\n",
       "      <td>0.00124</td>\n",
       "      <td>0.08707</td>\n",
       "      <td>0.125</td>\n",
       "    </tr>\n",
       "    <tr>\n",
       "      <th>5</th>\n",
       "      <td>TLT</td>\n",
       "      <td>0.00818</td>\n",
       "      <td>0.04594</td>\n",
       "      <td>0.125</td>\n",
       "    </tr>\n",
       "    <tr>\n",
       "      <th>6</th>\n",
       "      <td>LQD</td>\n",
       "      <td>0.00539</td>\n",
       "      <td>0.02858</td>\n",
       "      <td>0.125</td>\n",
       "    </tr>\n",
       "    <tr>\n",
       "      <th>7</th>\n",
       "      <td>GLD</td>\n",
       "      <td>0.01462</td>\n",
       "      <td>0.06016</td>\n",
       "      <td>0.125</td>\n",
       "    </tr>\n",
       "  </tbody>\n",
       "</table>\n",
       "</div>"
      ],
      "text/plain": [
       "  name  exp_ret  std_dev  weights\n",
       "0  SPY -0.00033  0.05465    0.125\n",
       "1  MDY  0.00235  0.06544    0.125\n",
       "2  SLY  0.00228  0.07204    0.125\n",
       "3  EFA -0.00439  0.06946    0.125\n",
       "4  EEM  0.00124  0.08707    0.125\n",
       "5  TLT  0.00818  0.04594    0.125\n",
       "6  LQD  0.00539  0.02858    0.125\n",
       "7  GLD  0.01462  0.06016    0.125"
      ]
     },
     "execution_count": 14,
     "metadata": {},
     "output_type": "execute_result"
    }
   ],
   "source": [
    "portfolio = pd.read_csv('film_portfolio.txt')\n",
    "portfolio"
   ]
  },
  {
   "cell_type": "code",
   "execution_count": 15,
   "id": "da05d8ee",
   "metadata": {
    "scrolled": true
   },
   "outputs": [
    {
     "data": {
      "text/html": [
       "<div>\n",
       "<style scoped>\n",
       "    .dataframe tbody tr th:only-of-type {\n",
       "        vertical-align: middle;\n",
       "    }\n",
       "\n",
       "    .dataframe tbody tr th {\n",
       "        vertical-align: top;\n",
       "    }\n",
       "\n",
       "    .dataframe thead th {\n",
       "        text-align: right;\n",
       "    }\n",
       "</style>\n",
       "<table border=\"1\" class=\"dataframe\">\n",
       "  <thead>\n",
       "    <tr style=\"text-align: right;\">\n",
       "      <th></th>\n",
       "      <th>name</th>\n",
       "      <th>exp_ret</th>\n",
       "      <th>std_dev</th>\n",
       "      <th>weights</th>\n",
       "      <th>sharpe_ratio</th>\n",
       "    </tr>\n",
       "  </thead>\n",
       "  <tbody>\n",
       "    <tr>\n",
       "      <th>0</th>\n",
       "      <td>SPY</td>\n",
       "      <td>-0.00033</td>\n",
       "      <td>0.05465</td>\n",
       "      <td>0.125</td>\n",
       "      <td>-0.006038</td>\n",
       "    </tr>\n",
       "    <tr>\n",
       "      <th>1</th>\n",
       "      <td>MDY</td>\n",
       "      <td>0.00235</td>\n",
       "      <td>0.06544</td>\n",
       "      <td>0.125</td>\n",
       "      <td>0.035911</td>\n",
       "    </tr>\n",
       "    <tr>\n",
       "      <th>2</th>\n",
       "      <td>SLY</td>\n",
       "      <td>0.00228</td>\n",
       "      <td>0.07204</td>\n",
       "      <td>0.125</td>\n",
       "      <td>0.031649</td>\n",
       "    </tr>\n",
       "    <tr>\n",
       "      <th>3</th>\n",
       "      <td>EFA</td>\n",
       "      <td>-0.00439</td>\n",
       "      <td>0.06946</td>\n",
       "      <td>0.125</td>\n",
       "      <td>-0.063202</td>\n",
       "    </tr>\n",
       "    <tr>\n",
       "      <th>4</th>\n",
       "      <td>EEM</td>\n",
       "      <td>0.00124</td>\n",
       "      <td>0.08707</td>\n",
       "      <td>0.125</td>\n",
       "      <td>0.014241</td>\n",
       "    </tr>\n",
       "    <tr>\n",
       "      <th>5</th>\n",
       "      <td>TLT</td>\n",
       "      <td>0.00818</td>\n",
       "      <td>0.04594</td>\n",
       "      <td>0.125</td>\n",
       "      <td>0.178058</td>\n",
       "    </tr>\n",
       "    <tr>\n",
       "      <th>6</th>\n",
       "      <td>LQD</td>\n",
       "      <td>0.00539</td>\n",
       "      <td>0.02858</td>\n",
       "      <td>0.125</td>\n",
       "      <td>0.188593</td>\n",
       "    </tr>\n",
       "    <tr>\n",
       "      <th>7</th>\n",
       "      <td>GLD</td>\n",
       "      <td>0.01462</td>\n",
       "      <td>0.06016</td>\n",
       "      <td>0.125</td>\n",
       "      <td>0.243019</td>\n",
       "    </tr>\n",
       "  </tbody>\n",
       "</table>\n",
       "</div>"
      ],
      "text/plain": [
       "  name  exp_ret  std_dev  weights  sharpe_ratio\n",
       "0  SPY -0.00033  0.05465    0.125     -0.006038\n",
       "1  MDY  0.00235  0.06544    0.125      0.035911\n",
       "2  SLY  0.00228  0.07204    0.125      0.031649\n",
       "3  EFA -0.00439  0.06946    0.125     -0.063202\n",
       "4  EEM  0.00124  0.08707    0.125      0.014241\n",
       "5  TLT  0.00818  0.04594    0.125      0.178058\n",
       "6  LQD  0.00539  0.02858    0.125      0.188593\n",
       "7  GLD  0.01462  0.06016    0.125      0.243019"
      ]
     },
     "execution_count": 15,
     "metadata": {},
     "output_type": "execute_result"
    }
   ],
   "source": [
    "# licze sharpe ratio\n",
    "# to jest tabelka dokładnie taka jak w filmie\n",
    "portfolio['sharpe_ratio'] = portfolio['exp_ret'] / portfolio['std_dev']\n",
    "portfolio"
   ]
  },
  {
   "cell_type": "code",
   "execution_count": 16,
   "id": "9f1d28c6",
   "metadata": {},
   "outputs": [
    {
     "data": {
      "text/plain": [
       "0.01462"
      ]
     },
     "execution_count": 16,
     "metadata": {},
     "output_type": "execute_result"
    }
   ],
   "source": [
    "# 3 wartości których potrzebuję potem w solverze\n",
    "maximum_expected_return = max(portfolio['exp_ret'])\n",
    "maximum_expected_return"
   ]
  },
  {
   "cell_type": "code",
   "execution_count": 17,
   "id": "73d89561",
   "metadata": {},
   "outputs": [
    {
     "data": {
      "text/plain": [
       "0.02858"
      ]
     },
     "execution_count": 17,
     "metadata": {},
     "output_type": "execute_result"
    }
   ],
   "source": [
    "minimum_standard_deviation = min(portfolio['std_dev'])\n",
    "minimum_standard_deviation"
   ]
  },
  {
   "cell_type": "code",
   "execution_count": 18,
   "id": "77eebc18",
   "metadata": {},
   "outputs": [
    {
     "data": {
      "text/plain": [
       "0.24301861702127658"
      ]
     },
     "execution_count": 18,
     "metadata": {},
     "output_type": "execute_result"
    }
   ],
   "source": [
    "maximum_sharpe_ratio = max(portfolio['sharpe_ratio'])\n",
    "maximum_sharpe_ratio"
   ]
  },
  {
   "cell_type": "code",
   "execution_count": 19,
   "id": "7bfbd1bd",
   "metadata": {},
   "outputs": [
    {
     "data": {
      "text/html": [
       "<div>\n",
       "<style scoped>\n",
       "    .dataframe tbody tr th:only-of-type {\n",
       "        vertical-align: middle;\n",
       "    }\n",
       "\n",
       "    .dataframe tbody tr th {\n",
       "        vertical-align: top;\n",
       "    }\n",
       "\n",
       "    .dataframe thead th {\n",
       "        text-align: right;\n",
       "    }\n",
       "</style>\n",
       "<table border=\"1\" class=\"dataframe\">\n",
       "  <thead>\n",
       "    <tr style=\"text-align: right;\">\n",
       "      <th></th>\n",
       "      <th>SPY</th>\n",
       "      <th>MDY</th>\n",
       "      <th>SLY</th>\n",
       "      <th>EFA</th>\n",
       "      <th>EEM</th>\n",
       "      <th>TLT</th>\n",
       "      <th>LQD</th>\n",
       "      <th>GLD</th>\n",
       "    </tr>\n",
       "  </thead>\n",
       "  <tbody>\n",
       "    <tr>\n",
       "      <th>0</th>\n",
       "      <td>0.002987</td>\n",
       "      <td>0.003433</td>\n",
       "      <td>0.003759</td>\n",
       "      <td>0.003552</td>\n",
       "      <td>0.004195</td>\n",
       "      <td>-0.000690</td>\n",
       "      <td>0.000566</td>\n",
       "      <td>0.000345</td>\n",
       "    </tr>\n",
       "    <tr>\n",
       "      <th>1</th>\n",
       "      <td>0.003433</td>\n",
       "      <td>0.004282</td>\n",
       "      <td>0.004645</td>\n",
       "      <td>0.004051</td>\n",
       "      <td>0.005018</td>\n",
       "      <td>-0.000980</td>\n",
       "      <td>0.000624</td>\n",
       "      <td>0.000498</td>\n",
       "    </tr>\n",
       "    <tr>\n",
       "      <th>2</th>\n",
       "      <td>0.003759</td>\n",
       "      <td>0.004645</td>\n",
       "      <td>0.005190</td>\n",
       "      <td>0.004387</td>\n",
       "      <td>0.005371</td>\n",
       "      <td>-0.001040</td>\n",
       "      <td>0.000662</td>\n",
       "      <td>0.000352</td>\n",
       "    </tr>\n",
       "    <tr>\n",
       "      <th>3</th>\n",
       "      <td>0.003552</td>\n",
       "      <td>0.004051</td>\n",
       "      <td>0.004387</td>\n",
       "      <td>0.004824</td>\n",
       "      <td>0.005585</td>\n",
       "      <td>-0.000570</td>\n",
       "      <td>0.000899</td>\n",
       "      <td>0.000767</td>\n",
       "    </tr>\n",
       "    <tr>\n",
       "      <th>4</th>\n",
       "      <td>0.004195</td>\n",
       "      <td>0.005018</td>\n",
       "      <td>0.005371</td>\n",
       "      <td>0.005585</td>\n",
       "      <td>0.007582</td>\n",
       "      <td>-0.001080</td>\n",
       "      <td>0.000921</td>\n",
       "      <td>0.001528</td>\n",
       "    </tr>\n",
       "    <tr>\n",
       "      <th>5</th>\n",
       "      <td>-0.000690</td>\n",
       "      <td>-0.000980</td>\n",
       "      <td>-0.001040</td>\n",
       "      <td>-0.000570</td>\n",
       "      <td>-0.001080</td>\n",
       "      <td>0.002111</td>\n",
       "      <td>0.000516</td>\n",
       "      <td>0.000425</td>\n",
       "    </tr>\n",
       "    <tr>\n",
       "      <th>6</th>\n",
       "      <td>0.000566</td>\n",
       "      <td>0.000624</td>\n",
       "      <td>0.000662</td>\n",
       "      <td>0.000899</td>\n",
       "      <td>0.000921</td>\n",
       "      <td>0.000516</td>\n",
       "      <td>0.000817</td>\n",
       "      <td>0.000291</td>\n",
       "    </tr>\n",
       "    <tr>\n",
       "      <th>7</th>\n",
       "      <td>0.000345</td>\n",
       "      <td>0.000498</td>\n",
       "      <td>0.000352</td>\n",
       "      <td>0.000767</td>\n",
       "      <td>0.001528</td>\n",
       "      <td>0.000425</td>\n",
       "      <td>0.000291</td>\n",
       "      <td>0.003619</td>\n",
       "    </tr>\n",
       "  </tbody>\n",
       "</table>\n",
       "</div>"
      ],
      "text/plain": [
       "        SPY       MDY       SLY       EFA       EEM       TLT       LQD  \\\n",
       "0  0.002987  0.003433  0.003759  0.003552  0.004195 -0.000690  0.000566   \n",
       "1  0.003433  0.004282  0.004645  0.004051  0.005018 -0.000980  0.000624   \n",
       "2  0.003759  0.004645  0.005190  0.004387  0.005371 -0.001040  0.000662   \n",
       "3  0.003552  0.004051  0.004387  0.004824  0.005585 -0.000570  0.000899   \n",
       "4  0.004195  0.005018  0.005371  0.005585  0.007582 -0.001080  0.000921   \n",
       "5 -0.000690 -0.000980 -0.001040 -0.000570 -0.001080  0.002111  0.000516   \n",
       "6  0.000566  0.000624  0.000662  0.000899  0.000921  0.000516  0.000817   \n",
       "7  0.000345  0.000498  0.000352  0.000767  0.001528  0.000425  0.000291   \n",
       "\n",
       "        GLD  \n",
       "0  0.000345  \n",
       "1  0.000498  \n",
       "2  0.000352  \n",
       "3  0.000767  \n",
       "4  0.001528  \n",
       "5  0.000425  \n",
       "6  0.000291  \n",
       "7  0.003619  "
      ]
     },
     "execution_count": 19,
     "metadata": {},
     "output_type": "execute_result"
    }
   ],
   "source": [
    "# macierz kowariancji taka jak w filmiku\n",
    "# tak, przepisywałam to wszystko XD\n",
    "covariance_matrix = pd.read_csv('film_kowariancja.txt', names=['SPY','MDY','SLY','EFA','EEM','TLT','LQD','GLD'])\n",
    "covariance_matrix"
   ]
  },
  {
   "cell_type": "code",
   "execution_count": 20,
   "id": "1e90bd44",
   "metadata": {
    "scrolled": true
   },
   "outputs": [
    {
     "data": {
      "text/plain": [
       "array([[ 0.002987,  0.003433,  0.003759,  0.003552,  0.004195, -0.00069 ,\n",
       "         0.000566,  0.000345],\n",
       "       [ 0.003433,  0.004282,  0.004645,  0.004051,  0.005018, -0.00098 ,\n",
       "         0.000624,  0.000498],\n",
       "       [ 0.003759,  0.004645,  0.00519 ,  0.004387,  0.005371, -0.00104 ,\n",
       "         0.000662,  0.000352],\n",
       "       [ 0.003552,  0.004051,  0.004387,  0.004824,  0.005585, -0.00057 ,\n",
       "         0.000899,  0.000767],\n",
       "       [ 0.004195,  0.005018,  0.005371,  0.005585,  0.007582, -0.00108 ,\n",
       "         0.000921,  0.001528],\n",
       "       [-0.00069 , -0.00098 , -0.00104 , -0.00057 , -0.00108 ,  0.002111,\n",
       "         0.000516,  0.000425],\n",
       "       [ 0.000566,  0.000624,  0.000662,  0.000899,  0.000921,  0.000516,\n",
       "         0.000817,  0.000291],\n",
       "       [ 0.000345,  0.000498,  0.000352,  0.000767,  0.001528,  0.000425,\n",
       "         0.000291,  0.003619]])"
      ]
     },
     "execution_count": 20,
     "metadata": {},
     "output_type": "execute_result"
    }
   ],
   "source": [
    "# zmieniam se tylko format tej tabelki na brzydszy nampajowy\n",
    "covariance_matrix = covariance_matrix.to_numpy()\n",
    "covariance_matrix"
   ]
  },
  {
   "cell_type": "code",
   "execution_count": 21,
   "id": "90e4bc3b",
   "metadata": {},
   "outputs": [
    {
     "data": {
      "text/plain": [
       "array([0.125, 0.125, 0.125, 0.125, 0.125, 0.125, 0.125, 0.125])"
      ]
     },
     "execution_count": 21,
     "metadata": {},
     "output_type": "execute_result"
    }
   ],
   "source": [
    "# kolumnę weights też potrzebuję w formacie numpy żeby policzyć reszte rzeczy\n",
    "weights = portfolio['weights'].to_numpy()\n",
    "weights"
   ]
  },
  {
   "cell_type": "markdown",
   "id": "6601560c",
   "metadata": {},
   "source": [
    "#### w tych 3 komórkach poniżej sprawdzam tylko czy dobrze liczę, odpowiednie funkcje do liczenia tych rzeczy są niżej"
   ]
  },
  {
   "cell_type": "code",
   "execution_count": 22,
   "id": "202074e8",
   "metadata": {},
   "outputs": [
    {
     "data": {
      "text/plain": [
       "0.0036674999999999998"
      ]
     },
     "execution_count": 22,
     "metadata": {},
     "output_type": "execute_result"
    }
   ],
   "source": [
    "# oczekiwany zwrot z portfolio\n",
    "portfolio_exp_return = np.matmul(portfolio['exp_ret'], portfolio['weights'])\n",
    "portfolio_exp_return"
   ]
  },
  {
   "cell_type": "code",
   "execution_count": 23,
   "id": "d625e0bf",
   "metadata": {},
   "outputs": [
    {
     "data": {
      "text/plain": [
       "0.04462902642899574"
      ]
     },
     "execution_count": 23,
     "metadata": {},
     "output_type": "execute_result"
    }
   ],
   "source": [
    "# odchylenie standardowe portfolio\n",
    "portfolio_std_deviation = np.sqrt(np.matmul(np.matmul(weights, covariance_matrix), weights))\n",
    "portfolio_std_deviation"
   ]
  },
  {
   "cell_type": "code",
   "execution_count": 24,
   "id": "6b9548b0",
   "metadata": {},
   "outputs": [
    {
     "data": {
      "text/plain": [
       "0.08217745923350915"
      ]
     },
     "execution_count": 24,
     "metadata": {},
     "output_type": "execute_result"
    }
   ],
   "source": [
    "# sharpe ratio dla całego portfolio\n",
    "portfolio_sharpe_ratio = portfolio_exp_return / portfolio_std_deviation\n",
    "portfolio_sharpe_ratio"
   ]
  },
  {
   "cell_type": "markdown",
   "id": "cf4e1c6a",
   "metadata": {},
   "source": [
    "### okej, wszystko do tego momentu śmiga jak trzeba"
   ]
  },
  {
   "cell_type": "code",
   "execution_count": 25,
   "id": "27ee43c8",
   "metadata": {},
   "outputs": [],
   "source": [
    "import scipy.optimize as opt"
   ]
  },
  {
   "cell_type": "code",
   "execution_count": 26,
   "id": "668a398a",
   "metadata": {},
   "outputs": [],
   "source": [
    "# funkcja która liczy na raz odchylenie standardowe portfolio w zależności od wag\n",
    "# covariance_matrix musi być zmienną globalną\n",
    "def get_portfolio_std_deviation(weights):\n",
    "    portfolio_std_deviation = np.sqrt(np.matmul(np.matmul(weights, covariance_matrix), weights))\n",
    "    return portfolio_std_deviation"
   ]
  },
  {
   "cell_type": "code",
   "execution_count": 27,
   "id": "54b1cba6",
   "metadata": {},
   "outputs": [
    {
     "data": {
      "text/plain": [
       "0.04462902642899574"
      ]
     },
     "execution_count": 27,
     "metadata": {},
     "output_type": "execute_result"
    }
   ],
   "source": [
    "get_portfolio_std_deviation(weights)"
   ]
  },
  {
   "cell_type": "code",
   "execution_count": 28,
   "id": "a8ef845a",
   "metadata": {},
   "outputs": [],
   "source": [
    "exp_returns = portfolio['exp_ret'].to_numpy()"
   ]
  },
  {
   "cell_type": "code",
   "execution_count": 29,
   "id": "834d0a7b",
   "metadata": {},
   "outputs": [],
   "source": [
    "# funkcja która liczy na raz oczekiwany zwrot z portfolio w zależności od wag\n",
    "# exp_returns musi być zmienną globalną\n",
    "def get_portfolio_exp_return(weights):\n",
    "    portfolio_exp_return = np.matmul(exp_returns, weights)\n",
    "    return portfolio_exp_return"
   ]
  },
  {
   "cell_type": "code",
   "execution_count": 30,
   "id": "ff58fddd",
   "metadata": {},
   "outputs": [
    {
     "data": {
      "text/plain": [
       "0.0036674999999999998"
      ]
     },
     "execution_count": 30,
     "metadata": {},
     "output_type": "execute_result"
    }
   ],
   "source": [
    "get_portfolio_exp_return(weights)"
   ]
  },
  {
   "cell_type": "code",
   "execution_count": 31,
   "id": "78471a75",
   "metadata": {},
   "outputs": [],
   "source": [
    "# funkcja która liczy na raz sharpe ratio całego portfolio w zależności od wag\n",
    "# covariance_matrix musi być zmienną globalną\n",
    "def get_portfolio_sharpe_ratio(weights):\n",
    "    portfolio_sharpe_ratio = np.matmul(exp_returns, weights) / np.sqrt(np.matmul(np.matmul(weights, covariance_matrix), weights))\n",
    "    return portfolio_sharpe_ratio"
   ]
  },
  {
   "cell_type": "code",
   "execution_count": 32,
   "id": "326a9780",
   "metadata": {},
   "outputs": [
    {
     "data": {
      "text/plain": [
       "0.08217745923350915"
      ]
     },
     "execution_count": 32,
     "metadata": {},
     "output_type": "execute_result"
    }
   ],
   "source": [
    "get_portfolio_sharpe_ratio(weights)"
   ]
  },
  {
   "cell_type": "markdown",
   "id": "7121277a",
   "metadata": {},
   "source": [
    "### Optymalizacja z 2 kolumny (nazwanej w filmiku Max Ret):\n",
    "##### maksymalizuję expected return przy utrzymaniu najniższego standard deviation jakie było w portfolio"
   ]
  },
  {
   "cell_type": "code",
   "execution_count": 33,
   "id": "e74bcb82",
   "metadata": {},
   "outputs": [],
   "source": [
    "# ograniczenie, że liczba akcji\n",
    "# (dokładniej wagi czyli stosunek wartości akcji względem wartości całego portfolio) \n",
    "# nie może być ujemna\n",
    "# to ograniczenie stosuję we wszystkich 3 typach optymalizacji\n",
    "bnds = ((0, None), (0, None), (0, None), (0, None), (0, None), (0, None), (0, None), (0, None))"
   ]
  },
  {
   "cell_type": "code",
   "execution_count": 34,
   "id": "75c6481a",
   "metadata": {},
   "outputs": [],
   "source": [
    "# ograniczenie, że wszytskie wagi razem wzięte muszą wynosić 1 (100%)\n",
    "# ograniczenie że portfolio std deviation ma pozostać nie większe, niż było w portfolio\n",
    "# get_portfolio_std_deviation <= minimum_standard_deviation\n",
    "# minimum_standard_deviation - get_portfolio_std_deviation >= 0\n",
    "\n",
    "cons = ({'type': 'eq', 'fun': lambda x:  sum(x) - 1},\n",
    "        {'type': 'ineq', 'fun': lambda x: minimum_standard_deviation - get_portfolio_std_deviation(x)})"
   ]
  },
  {
   "cell_type": "code",
   "execution_count": 37,
   "id": "c141310e",
   "metadata": {},
   "outputs": [],
   "source": [
    "def get_portfolio_exp_return_reversed(weights):\n",
    "    return 1/get_portfolio_exp_return(weights)"
   ]
  },
  {
   "cell_type": "code",
   "execution_count": 38,
   "id": "95d30594",
   "metadata": {
    "scrolled": true
   },
   "outputs": [
    {
     "data": {
      "text/plain": [
       "     fun: 117.74154788370274\n",
       "     jac: array([   4.5748148 ,  -32.57821846,  -31.6078043 ,   60.85888672,\n",
       "        -17.19020939, -113.39992809,  -74.72195721, -202.67810917])\n",
       " message: 'Optimization terminated successfully'\n",
       "    nfev: 121\n",
       "     nit: 13\n",
       "    njev: 13\n",
       "  status: 0\n",
       " success: True\n",
       "       x: array([0.00000000e+00, 3.89876240e-12, 4.14806224e-02, 0.00000000e+00,\n",
       "       1.02541627e-12, 2.30937385e-01, 4.47206253e-01, 2.80375739e-01])"
      ]
     },
     "execution_count": 38,
     "metadata": {},
     "output_type": "execute_result"
    }
   ],
   "source": [
    "result = opt.minimize(get_portfolio_exp_return_reversed, weights, bounds=bnds, constraints=cons)\n",
    "result"
   ]
  },
  {
   "cell_type": "markdown",
   "id": "a03e7f66",
   "metadata": {},
   "source": [
    "### Optymalizacja z 3 kolumny (nazwanej w filmiku Min St Dev):\n",
    "##### minimalizuję std deviation przy utrzymaniu największego expected return jakie było w portfolio"
   ]
  },
  {
   "cell_type": "code",
   "execution_count": 39,
   "id": "9847f79b",
   "metadata": {},
   "outputs": [],
   "source": [
    "# ograniczenie, że wszytskie wagi razem wzięte muszą wynosić 1 (100%)\n",
    "# ograniczenie że portfolio expected return ma pozostać nie mniejsze, niż było w portfolio\n",
    "# get_portfolio_exp_return >= maximum_expected_return\n",
    "# get_portfolio_exp_return - maximum_expected_return >= 0\n",
    "\n",
    "cons = ({'type': 'eq', 'fun': lambda x:  sum(x) - 1},\n",
    "        {'type': 'ineq', 'fun': lambda x: get_portfolio_exp_return(x) - maximum_expected_return})"
   ]
  },
  {
   "cell_type": "code",
   "execution_count": 40,
   "id": "588f7b59",
   "metadata": {
    "scrolled": true
   },
   "outputs": [
    {
     "data": {
      "text/plain": [
       "     fun: 0.031603538067684\n",
       "     jac: array([-0.00033831,  0.0054703 ,  0.00524215, -0.0090188 ,  0.00309087,\n",
       "        0.0178373 ,  0.01183114,  0.03154177])\n",
       " message: 'Optimization terminated successfully'\n",
       "    nfev: 270\n",
       "     nit: 30\n",
       "    njev: 30\n",
       "  status: 0\n",
       " success: True\n",
       "       x: array([ 0.41892488,  0.25630422,  0.14996736, -1.12117764,  0.24361841,\n",
       "        0.22786211,  0.57726582,  0.24723483])"
      ]
     },
     "execution_count": 40,
     "metadata": {},
     "output_type": "execute_result"
    }
   ],
   "source": [
    "# tutaj działa solver i z ważnych rzeczy wypluwa:\n",
    "# fun: to jest najlepszy wynik funkcji jaki się udało uzyskać, w tym przypadku minimalne std deviation\n",
    "# x: to są wagi dające minimalne std deviation, to jest najważniejsza rzecz u nas\n",
    "#    (mówi co użytkownik ma pozmieniać, żeby uzyskać najlepsze wyniki)\n",
    "result = opt.minimize(get_portfolio_std_deviation, weights, constraints=cons)\n",
    "result"
   ]
  },
  {
   "cell_type": "code",
   "execution_count": 41,
   "id": "9c81713e",
   "metadata": {},
   "outputs": [
    {
     "data": {
      "text/plain": [
       "array([ 0.41892488,  0.25630422,  0.14996736, -1.12117764,  0.24361841,\n",
       "        0.22786211,  0.57726582,  0.24723483])"
      ]
     },
     "execution_count": 41,
     "metadata": {},
     "output_type": "execute_result"
    }
   ],
   "source": [
    "# tak się uzyskuje same wagi, żeby potem je gdzieś przekazać czy wyświetlić\n",
    "result.x"
   ]
  },
  {
   "cell_type": "code",
   "execution_count": 42,
   "id": "00c2bd0a",
   "metadata": {},
   "outputs": [
    {
     "data": {
      "text/plain": [
       "0.031603538067684"
      ]
     },
     "execution_count": 42,
     "metadata": {},
     "output_type": "execute_result"
    }
   ],
   "source": [
    "# a tak wynik\n",
    "result.fun"
   ]
  },
  {
   "cell_type": "code",
   "execution_count": 43,
   "id": "12e1be1b",
   "metadata": {
    "scrolled": true
   },
   "outputs": [
    {
     "data": {
      "text/plain": [
       "1.0"
      ]
     },
     "execution_count": 43,
     "metadata": {},
     "output_type": "execute_result"
    }
   ],
   "source": [
    "# można se też sprawdzić czy wagi fajnie sumują się do 1 (100%)\n",
    "sum(result.x)"
   ]
  },
  {
   "cell_type": "markdown",
   "id": "8d988494",
   "metadata": {},
   "source": [
    "### Optymalizacja z 4 kolumny (nazwanej w filmiku Max SR):\n",
    "##### maksymalizuję sharpe ratio przy utrzymaniu największego expected return i najmniejszego std deviation jakie było w portfolio"
   ]
  },
  {
   "cell_type": "code",
   "execution_count": 44,
   "id": "0ad96265",
   "metadata": {},
   "outputs": [],
   "source": [
    "# tutaj zgodnie z filmikiem bez dodatkowych ograniczeń (hulaj dusza boga nie ma :)\n",
    "# ograniczenie jest tylko to, że wszytskie wagi razem wzięte muszą wynosić 1 (100%)\n",
    "\n",
    "cons = ({'type': 'eq', 'fun': lambda x:  sum(x) - 1})"
   ]
  },
  {
   "cell_type": "code",
   "execution_count": 45,
   "id": "7b88095f",
   "metadata": {},
   "outputs": [],
   "source": [
    "def get_sharpe_ratio_reversed(weights):\n",
    "    return 1/get_portfolio_sharpe_ratio(weights)"
   ]
  },
  {
   "cell_type": "code",
   "execution_count": 46,
   "id": "bed600e6",
   "metadata": {},
   "outputs": [
    {
     "data": {
      "text/plain": [
       "     fun: 3.329326675467473\n",
       "     jac: array([ 9.91588593e-01,  1.14394963e-01, -3.59117985e-04,  3.56373417e+00,\n",
       "        2.15000427e+00,  3.30209732e-04, -2.67922878e-05, -1.77800655e-04])\n",
       " message: 'Optimization terminated successfully'\n",
       "    nfev: 93\n",
       "     nit: 10\n",
       "    njev: 10\n",
       "  status: 0\n",
       " success: True\n",
       "       x: array([1.19366892e-16, 2.27789815e-16, 2.18182133e-02, 0.00000000e+00,\n",
       "       1.07970842e-16, 2.44990449e-01, 3.79507820e-01, 3.53683518e-01])"
      ]
     },
     "execution_count": 46,
     "metadata": {},
     "output_type": "execute_result"
    }
   ],
   "source": [
    "result = opt.minimize(get_sharpe_ratio_reversed, weights, bounds=bnds, constraints=cons)\n",
    "result"
   ]
  }
 ],
 "metadata": {
  "kernelspec": {
   "display_name": "Python 3 (ipykernel)",
   "language": "python",
   "name": "python3"
  },
  "language_info": {
   "codemirror_mode": {
    "name": "ipython",
    "version": 3
   },
   "file_extension": ".py",
   "mimetype": "text/x-python",
   "name": "python",
   "nbconvert_exporter": "python",
   "pygments_lexer": "ipython3",
   "version": "3.9.7"
  }
 },
 "nbformat": 4,
 "nbformat_minor": 5
}
